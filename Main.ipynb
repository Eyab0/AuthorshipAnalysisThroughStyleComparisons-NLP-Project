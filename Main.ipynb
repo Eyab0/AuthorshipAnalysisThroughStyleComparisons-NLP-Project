{
 "cells": [
  {
   "attachments": {},
   "cell_type": "markdown",
   "metadata": {},
   "source": [
    "Data Collocation"
   ]
  },
  {
   "cell_type": "code",
   "execution_count": 18,
   "metadata": {},
   "outputs": [],
   "source": [
    "# taamolat data set\n",
    "taamolat_directory  = 'Authors Dataset/taamolat/'\n",
    "TAAMOLAT_NUMBER_OF_AUTHORS = 7\n",
    "TAAMOLAT_NUMBER_OF_SAMPLES_PER_AUTHOR = 10\n",
    "\n",
    "# alaraby data set\n",
    "alaraby_directory = 'Authors Dataset/alaraby/'\n",
    "ALARABY_NUMBER_OF_AUTHORS = 9\n",
    "ALARABY_NUMBER_OF_SAMPLES_PER_AUTHOR = 10"
   ]
  },
  {
   "attachments": {},
   "cell_type": "markdown",
   "metadata": {},
   "source": [
    "Function for return the list of authors names for a specific dataset"
   ]
  },
  {
   "cell_type": "code",
   "execution_count": 19,
   "metadata": {},
   "outputs": [],
   "source": [
    "def get_authors_names(directory_name, number_of_authors):\n",
    "    import configparser\n",
    "\n",
    "    # Create a ConfigParser object\n",
    "    config = configparser.ConfigParser()\n",
    "\n",
    "    # save the authors names in a list\n",
    "    authors = []\n",
    "    for i in range(number_of_authors):\n",
    "        # Read the properties file with the correct encoding (e.g., 'utf-8')\n",
    "        with open(f'{directory_name}a{i}/a{i}_0.properties', encoding='utf-8') as f:\n",
    "            # Add a default section header to the file\n",
    "            content = '[default]\\n' + f.read()\n",
    "            config.read_string(content)\n",
    "\n",
    "        # Get the author name\n",
    "        # Get the value of the 'author_name' key\n",
    "        author_name = config.get('default', 'author_name')\n",
    "        authors.append(author_name)\n",
    "\n",
    "    return authors"
   ]
  },
  {
   "cell_type": "code",
   "execution_count": 20,
   "metadata": {},
   "outputs": [
    {
     "name": "stdout",
     "output_type": "stream",
     "text": [
      "Mohammad Awwad\n",
      "عبد الله الشريف\n",
      "محمد عواد\n"
     ]
    }
   ],
   "source": [
    "taamolat_authors = get_authors_names(taamolat_directory, TAAMOLAT_NUMBER_OF_AUTHORS)\n",
    "# manually add the arabic names of the authors of the taamolat dataset\n",
    "tammolat_authors_arabic = ['محمد عواد', 'محمد زينوبة', 'يونس جعدي', 'نور الدين رافع', 'عبير قلوطي', 'معتز خطيب', 'إبراهيم نصر الله']\n",
    "alaraby_authors = get_authors_names(alaraby_directory, ALARABY_NUMBER_OF_AUTHORS)\n",
    "\n",
    "print(taamolat_authors[0])\n",
    "print(tammolat_authors_arabic[0])\n",
    "print(alaraby_authors[0])\n"
   ]
  }
 ],
 "metadata": {
  "kernelspec": {
   "display_name": "Python 3",
   "language": "python",
   "name": "python3"
  },
  "language_info": {
   "codemirror_mode": {
    "name": "ipython",
    "version": 3
   },
   "file_extension": ".py",
   "mimetype": "text/x-python",
   "name": "python",
   "nbconvert_exporter": "python",
   "pygments_lexer": "ipython3",
   "version": "3.9.7"
  },
  "orig_nbformat": 4
 },
 "nbformat": 4,
 "nbformat_minor": 2
}
