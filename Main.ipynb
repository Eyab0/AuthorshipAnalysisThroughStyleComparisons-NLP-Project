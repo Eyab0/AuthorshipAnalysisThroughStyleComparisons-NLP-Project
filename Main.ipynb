{
 "cells": [
  {
   "attachments": {},
   "cell_type": "markdown",
   "metadata": {},
   "source": [
    "Data Collocation"
   ]
  },
  {
   "cell_type": "code",
   "execution_count": 11,
   "metadata": {},
   "outputs": [],
   "source": [
    "# taamolat data set\n",
    "taamolat_directory  = 'Authors Dataset/taamolat/'\n",
    "TAAMOLAT_NUMBER_OF_AUTHORS = 7\n",
    "TAAMOLAT_NUMBER_OF_SAMPLES_PER_AUTHOR = 10\n",
    "\n",
    "# alaraby data set\n",
    "alaraby_directory = 'Authors Dataset/alaraby/'\n",
    "ALARABY_NUMBER_OF_AUTHORS = 9\n",
    "ALARABY_NUMBER_OF_SAMPLES_PER_AUTHOR = 10"
   ]
  },
  {
   "attachments": {},
   "cell_type": "markdown",
   "metadata": {},
   "source": [
    "Function for return the list of authors names for a specific dataset"
   ]
  },
  {
   "cell_type": "code",
   "execution_count": 12,
   "metadata": {},
   "outputs": [],
   "source": [
    "def get_authors_names(directory_name, number_of_authors):\n",
    "    import configparser\n",
    "\n",
    "    # Create a ConfigParser object\n",
    "    config = configparser.ConfigParser()\n",
    "\n",
    "    # save the authors names in a list\n",
    "    authors = []\n",
    "    for i in range(number_of_authors):\n",
    "        # Read the properties file with the correct encoding (e.g., 'utf-8')\n",
    "        with open(f'{directory_name}a{i}/a{i}_0.properties', encoding='utf-8') as f:\n",
    "            # Add a default section header to the file\n",
    "            content = '[default]\\n' + f.read()\n",
    "            config.read_string(content)\n",
    "\n",
    "        # Get the author name\n",
    "        # Get the value of the 'author_name' key\n",
    "        author_name = config.get('default', 'author_name')\n",
    "        authors.append(author_name)\n",
    "\n",
    "    return authors"
   ]
  },
  {
   "cell_type": "code",
   "execution_count": 14,
   "metadata": {},
   "outputs": [
    {
     "name": "stdout",
     "output_type": "stream",
     "text": [
      "['Mohammad Awwad', 'Mohamed Zeinouba', 'Younes Djaadi', 'NourAlDin Rafe', 'Abeer Kalouti', 'Mutaz Khateeb', 'Ibrahim Nasrallah']\n",
      "['عبد الله الشريف', 'عادل الأحمدي', 'عبسي سميسم', 'إياد حميد', 'ناصر السهلي', 'نضال محمد وتد', 'عثمان لحياني', 'صالح النعامي', 'وليد التليلي']\n"
     ]
    }
   ],
   "source": [
    "taamolat_authors = get_authors_names(taamolat_directory, TAAMOLAT_NUMBER_OF_AUTHORS)\n",
    "alaraby_authors = get_authors_names(alaraby_directory, ALARABY_NUMBER_OF_AUTHORS)\n",
    "\n",
    "print(taamolat_authors)\n",
    "print(alaraby_authors)"
   ]
  }
 ],
 "metadata": {
  "kernelspec": {
   "display_name": "Python 3",
   "language": "python",
   "name": "python3"
  },
  "language_info": {
   "codemirror_mode": {
    "name": "ipython",
    "version": 3
   },
   "file_extension": ".py",
   "mimetype": "text/x-python",
   "name": "python",
   "nbconvert_exporter": "python",
   "pygments_lexer": "ipython3",
   "version": "3.9.7"
  },
  "orig_nbformat": 4
 },
 "nbformat": 4,
 "nbformat_minor": 2
}
